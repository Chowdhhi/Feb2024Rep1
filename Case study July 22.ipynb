{
 "cells": [
  {
   "cell_type": "markdown",
   "id": "dfe28f29",
   "metadata": {},
   "source": [
    "# Importing the libraries"
   ]
  },
  {
   "cell_type": "code",
   "execution_count": 5,
   "id": "dc43741b",
   "metadata": {},
   "outputs": [],
   "source": [
    "import numpy as np\n",
    "import pandas as pd\n",
    "import matplotlib.pyplot as plt\n",
    "import seaborn as sns\n",
    "import warnings\n",
    "warnings.filterwarnings('ignore')"
   ]
  },
  {
   "cell_type": "markdown",
   "id": "e0293b38",
   "metadata": {},
   "source": [
    "# Installing xlrd package"
   ]
  },
  {
   "cell_type": "code",
   "execution_count": 19,
   "id": "61e17cf9",
   "metadata": {},
   "outputs": [
    {
     "name": "stdout",
     "output_type": "stream",
     "text": [
      "Collecting xlrd\n",
      "  Downloading xlrd-2.0.1-py2.py3-none-any.whl (96 kB)\n",
      "     ---------------------------------------- 96.5/96.5 kB 1.1 MB/s eta 0:00:00\n",
      "Installing collected packages: xlrd\n",
      "Successfully installed xlrd-2.0.1\n"
     ]
    }
   ],
   "source": [
    "!pip install xlrd"
   ]
  },
  {
   "cell_type": "markdown",
   "id": "c671254d",
   "metadata": {},
   "source": [
    "# Importing Data"
   ]
  },
  {
   "cell_type": "code",
   "execution_count": 20,
   "id": "7b306fb0",
   "metadata": {},
   "outputs": [
    {
     "data": {
      "text/html": [
       "<div>\n",
       "<style scoped>\n",
       "    .dataframe tbody tr th:only-of-type {\n",
       "        vertical-align: middle;\n",
       "    }\n",
       "\n",
       "    .dataframe tbody tr th {\n",
       "        vertical-align: top;\n",
       "    }\n",
       "\n",
       "    .dataframe thead th {\n",
       "        text-align: right;\n",
       "    }\n",
       "</style>\n",
       "<table border=\"1\" class=\"dataframe\">\n",
       "  <thead>\n",
       "    <tr style=\"text-align: right;\">\n",
       "      <th></th>\n",
       "      <th>Employee Id</th>\n",
       "      <th>First Name</th>\n",
       "      <th>Last Name</th>\n",
       "      <th>Department</th>\n",
       "      <th>Age</th>\n",
       "      <th>Experience</th>\n",
       "      <th>Salary</th>\n",
       "    </tr>\n",
       "  </thead>\n",
       "  <tbody>\n",
       "    <tr>\n",
       "      <th>0</th>\n",
       "      <td>1</td>\n",
       "      <td>Joy</td>\n",
       "      <td>Bass</td>\n",
       "      <td>Sales and Marketing</td>\n",
       "      <td>28.0</td>\n",
       "      <td>3.0</td>\n",
       "      <td>32889</td>\n",
       "    </tr>\n",
       "    <tr>\n",
       "      <th>1</th>\n",
       "      <td>2</td>\n",
       "      <td>Sheila</td>\n",
       "      <td>Garza</td>\n",
       "      <td>Sales and Marketing</td>\n",
       "      <td>22.0</td>\n",
       "      <td>1.0</td>\n",
       "      <td>15944</td>\n",
       "    </tr>\n",
       "    <tr>\n",
       "      <th>2</th>\n",
       "      <td>3</td>\n",
       "      <td>John</td>\n",
       "      <td>Bryant</td>\n",
       "      <td>Customer Relations</td>\n",
       "      <td>22.0</td>\n",
       "      <td>1.0</td>\n",
       "      <td>40343</td>\n",
       "    </tr>\n",
       "    <tr>\n",
       "      <th>3</th>\n",
       "      <td>4</td>\n",
       "      <td>Christian</td>\n",
       "      <td>Farley</td>\n",
       "      <td>Customer Relations</td>\n",
       "      <td>22.0</td>\n",
       "      <td>1.0</td>\n",
       "      <td>19018</td>\n",
       "    </tr>\n",
       "    <tr>\n",
       "      <th>4</th>\n",
       "      <td>5</td>\n",
       "      <td>Colorado</td>\n",
       "      <td>Bowen</td>\n",
       "      <td>Accounting</td>\n",
       "      <td>27.0</td>\n",
       "      <td>0.0</td>\n",
       "      <td>24795</td>\n",
       "    </tr>\n",
       "    <tr>\n",
       "      <th>...</th>\n",
       "      <td>...</td>\n",
       "      <td>...</td>\n",
       "      <td>...</td>\n",
       "      <td>...</td>\n",
       "      <td>...</td>\n",
       "      <td>...</td>\n",
       "      <td>...</td>\n",
       "    </tr>\n",
       "    <tr>\n",
       "      <th>95</th>\n",
       "      <td>96</td>\n",
       "      <td>Tyrone</td>\n",
       "      <td>Barber</td>\n",
       "      <td>Sales and Marketing</td>\n",
       "      <td>47.0</td>\n",
       "      <td>22.0</td>\n",
       "      <td>79077</td>\n",
       "    </tr>\n",
       "    <tr>\n",
       "      <th>96</th>\n",
       "      <td>97</td>\n",
       "      <td>Urielle</td>\n",
       "      <td>Herrera</td>\n",
       "      <td>Sales and Marketing</td>\n",
       "      <td>46.0</td>\n",
       "      <td>20.0</td>\n",
       "      <td>81187</td>\n",
       "    </tr>\n",
       "    <tr>\n",
       "      <th>97</th>\n",
       "      <td>98</td>\n",
       "      <td>Brendan</td>\n",
       "      <td>Solis</td>\n",
       "      <td>Customer Relations</td>\n",
       "      <td>44.0</td>\n",
       "      <td>18.0</td>\n",
       "      <td>83847</td>\n",
       "    </tr>\n",
       "    <tr>\n",
       "      <th>98</th>\n",
       "      <td>99</td>\n",
       "      <td>Holmes</td>\n",
       "      <td>Nelson</td>\n",
       "      <td>Customer Relations</td>\n",
       "      <td>47.0</td>\n",
       "      <td>22.0</td>\n",
       "      <td>89158</td>\n",
       "    </tr>\n",
       "    <tr>\n",
       "      <th>99</th>\n",
       "      <td>100</td>\n",
       "      <td>Avye</td>\n",
       "      <td>Davidson</td>\n",
       "      <td>Accounting</td>\n",
       "      <td>44.0</td>\n",
       "      <td>21.0</td>\n",
       "      <td>91645</td>\n",
       "    </tr>\n",
       "  </tbody>\n",
       "</table>\n",
       "<p>100 rows × 7 columns</p>\n",
       "</div>"
      ],
      "text/plain": [
       "    Employee Id First Name Last Name           Department   Age  Experience  \\\n",
       "0             1        Joy      Bass  Sales and Marketing  28.0         3.0   \n",
       "1             2     Sheila     Garza  Sales and Marketing  22.0         1.0   \n",
       "2             3       John    Bryant   Customer Relations  22.0         1.0   \n",
       "3             4  Christian    Farley   Customer Relations  22.0         1.0   \n",
       "4             5   Colorado     Bowen           Accounting  27.0         0.0   \n",
       "..          ...        ...       ...                  ...   ...         ...   \n",
       "95           96     Tyrone    Barber  Sales and Marketing  47.0        22.0   \n",
       "96           97    Urielle   Herrera  Sales and Marketing  46.0        20.0   \n",
       "97           98    Brendan     Solis   Customer Relations  44.0        18.0   \n",
       "98           99     Holmes    Nelson   Customer Relations  47.0        22.0   \n",
       "99          100       Avye  Davidson           Accounting  44.0        21.0   \n",
       "\n",
       "    Salary  \n",
       "0    32889  \n",
       "1    15944  \n",
       "2    40343  \n",
       "3    19018  \n",
       "4    24795  \n",
       "..     ...  \n",
       "95   79077  \n",
       "96   81187  \n",
       "97   83847  \n",
       "98   89158  \n",
       "99   91645  \n",
       "\n",
       "[100 rows x 7 columns]"
      ]
     },
     "execution_count": 20,
     "metadata": {},
     "output_type": "execute_result"
    }
   ],
   "source": [
    "ed=pd.read_excel(r\"C:\\Users\\hindo\\Case_Study_Data_Sets\\Employee_Data.xls\")\n",
    "ed"
   ]
  },
  {
   "cell_type": "markdown",
   "id": "8bf32fbd",
   "metadata": {},
   "source": [
    "# Shape of Data Frame"
   ]
  },
  {
   "cell_type": "code",
   "execution_count": 21,
   "id": "8aa81f25",
   "metadata": {},
   "outputs": [
    {
     "data": {
      "text/plain": [
       "(100, 7)"
      ]
     },
     "execution_count": 21,
     "metadata": {},
     "output_type": "execute_result"
    }
   ],
   "source": [
    "ed.shape"
   ]
  },
  {
   "cell_type": "markdown",
   "id": "9bc9012a",
   "metadata": {},
   "source": [
    "# Checking Nan Values"
   ]
  },
  {
   "cell_type": "code",
   "execution_count": 24,
   "id": "06e6dc2a",
   "metadata": {},
   "outputs": [
    {
     "data": {
      "text/html": [
       "<div>\n",
       "<style scoped>\n",
       "    .dataframe tbody tr th:only-of-type {\n",
       "        vertical-align: middle;\n",
       "    }\n",
       "\n",
       "    .dataframe tbody tr th {\n",
       "        vertical-align: top;\n",
       "    }\n",
       "\n",
       "    .dataframe thead th {\n",
       "        text-align: right;\n",
       "    }\n",
       "</style>\n",
       "<table border=\"1\" class=\"dataframe\">\n",
       "  <thead>\n",
       "    <tr style=\"text-align: right;\">\n",
       "      <th></th>\n",
       "      <th>Employee Id</th>\n",
       "      <th>First Name</th>\n",
       "      <th>Last Name</th>\n",
       "      <th>Department</th>\n",
       "      <th>Age</th>\n",
       "      <th>Experience</th>\n",
       "      <th>Salary</th>\n",
       "    </tr>\n",
       "  </thead>\n",
       "  <tbody>\n",
       "    <tr>\n",
       "      <th>0</th>\n",
       "      <td>False</td>\n",
       "      <td>False</td>\n",
       "      <td>False</td>\n",
       "      <td>False</td>\n",
       "      <td>False</td>\n",
       "      <td>False</td>\n",
       "      <td>False</td>\n",
       "    </tr>\n",
       "    <tr>\n",
       "      <th>1</th>\n",
       "      <td>False</td>\n",
       "      <td>False</td>\n",
       "      <td>False</td>\n",
       "      <td>False</td>\n",
       "      <td>False</td>\n",
       "      <td>False</td>\n",
       "      <td>False</td>\n",
       "    </tr>\n",
       "    <tr>\n",
       "      <th>2</th>\n",
       "      <td>False</td>\n",
       "      <td>False</td>\n",
       "      <td>False</td>\n",
       "      <td>False</td>\n",
       "      <td>False</td>\n",
       "      <td>False</td>\n",
       "      <td>False</td>\n",
       "    </tr>\n",
       "    <tr>\n",
       "      <th>3</th>\n",
       "      <td>False</td>\n",
       "      <td>False</td>\n",
       "      <td>False</td>\n",
       "      <td>False</td>\n",
       "      <td>False</td>\n",
       "      <td>False</td>\n",
       "      <td>False</td>\n",
       "    </tr>\n",
       "    <tr>\n",
       "      <th>4</th>\n",
       "      <td>False</td>\n",
       "      <td>False</td>\n",
       "      <td>False</td>\n",
       "      <td>False</td>\n",
       "      <td>False</td>\n",
       "      <td>False</td>\n",
       "      <td>False</td>\n",
       "    </tr>\n",
       "    <tr>\n",
       "      <th>...</th>\n",
       "      <td>...</td>\n",
       "      <td>...</td>\n",
       "      <td>...</td>\n",
       "      <td>...</td>\n",
       "      <td>...</td>\n",
       "      <td>...</td>\n",
       "      <td>...</td>\n",
       "    </tr>\n",
       "    <tr>\n",
       "      <th>95</th>\n",
       "      <td>False</td>\n",
       "      <td>False</td>\n",
       "      <td>False</td>\n",
       "      <td>False</td>\n",
       "      <td>False</td>\n",
       "      <td>False</td>\n",
       "      <td>False</td>\n",
       "    </tr>\n",
       "    <tr>\n",
       "      <th>96</th>\n",
       "      <td>False</td>\n",
       "      <td>False</td>\n",
       "      <td>False</td>\n",
       "      <td>False</td>\n",
       "      <td>False</td>\n",
       "      <td>False</td>\n",
       "      <td>False</td>\n",
       "    </tr>\n",
       "    <tr>\n",
       "      <th>97</th>\n",
       "      <td>False</td>\n",
       "      <td>False</td>\n",
       "      <td>False</td>\n",
       "      <td>False</td>\n",
       "      <td>False</td>\n",
       "      <td>False</td>\n",
       "      <td>False</td>\n",
       "    </tr>\n",
       "    <tr>\n",
       "      <th>98</th>\n",
       "      <td>False</td>\n",
       "      <td>False</td>\n",
       "      <td>False</td>\n",
       "      <td>False</td>\n",
       "      <td>False</td>\n",
       "      <td>False</td>\n",
       "      <td>False</td>\n",
       "    </tr>\n",
       "    <tr>\n",
       "      <th>99</th>\n",
       "      <td>False</td>\n",
       "      <td>False</td>\n",
       "      <td>False</td>\n",
       "      <td>False</td>\n",
       "      <td>False</td>\n",
       "      <td>False</td>\n",
       "      <td>False</td>\n",
       "    </tr>\n",
       "  </tbody>\n",
       "</table>\n",
       "<p>100 rows × 7 columns</p>\n",
       "</div>"
      ],
      "text/plain": [
       "    Employee Id  First Name  Last Name  Department    Age  Experience  Salary\n",
       "0         False       False      False       False  False       False   False\n",
       "1         False       False      False       False  False       False   False\n",
       "2         False       False      False       False  False       False   False\n",
       "3         False       False      False       False  False       False   False\n",
       "4         False       False      False       False  False       False   False\n",
       "..          ...         ...        ...         ...    ...         ...     ...\n",
       "95        False       False      False       False  False       False   False\n",
       "96        False       False      False       False  False       False   False\n",
       "97        False       False      False       False  False       False   False\n",
       "98        False       False      False       False  False       False   False\n",
       "99        False       False      False       False  False       False   False\n",
       "\n",
       "[100 rows x 7 columns]"
      ]
     },
     "execution_count": 24,
     "metadata": {},
     "output_type": "execute_result"
    }
   ],
   "source": [
    "#ed.isna()  OR\n",
    "ed.isnull()"
   ]
  },
  {
   "cell_type": "code",
   "execution_count": 25,
   "id": "94d90787",
   "metadata": {},
   "outputs": [
    {
     "data": {
      "text/plain": [
       "Employee Id     0\n",
       "First Name      0\n",
       "Last Name       0\n",
       "Department     19\n",
       "Age            18\n",
       "Experience     10\n",
       "Salary          0\n",
       "dtype: int64"
      ]
     },
     "execution_count": 25,
     "metadata": {},
     "output_type": "execute_result"
    }
   ],
   "source": [
    "ed.isna().sum()"
   ]
  },
  {
   "cell_type": "markdown",
   "id": "ac0b2179",
   "metadata": {},
   "source": [
    "# Information about Data Frame"
   ]
  },
  {
   "cell_type": "code",
   "execution_count": 27,
   "id": "e87a68a9",
   "metadata": {},
   "outputs": [
    {
     "name": "stdout",
     "output_type": "stream",
     "text": [
      "<class 'pandas.core.frame.DataFrame'>\n",
      "RangeIndex: 100 entries, 0 to 99\n",
      "Data columns (total 7 columns):\n",
      " #   Column       Non-Null Count  Dtype  \n",
      "---  ------       --------------  -----  \n",
      " 0   Employee Id  100 non-null    int64  \n",
      " 1   First Name   100 non-null    object \n",
      " 2   Last Name    100 non-null    object \n",
      " 3   Department   81 non-null     object \n",
      " 4   Age          82 non-null     float64\n",
      " 5   Experience   90 non-null     float64\n",
      " 6   Salary       100 non-null    int64  \n",
      "dtypes: float64(2), int64(2), object(3)\n",
      "memory usage: 5.6+ KB\n"
     ]
    }
   ],
   "source": [
    "#Provides information about Data frame like no of rows,columns,dtype\n",
    "ed.info()"
   ]
  },
  {
   "cell_type": "raw",
   "id": "a35f3651",
   "metadata": {},
   "source": [
    "#If there are more than 25% null values in the column then we drop the column"
   ]
  },
  {
   "cell_type": "markdown",
   "id": "d5d62e68",
   "metadata": {},
   "source": [
    "# Checking percentage of null values in columns in the DataFrame"
   ]
  },
  {
   "cell_type": "code",
   "execution_count": 32,
   "id": "916ef278",
   "metadata": {},
   "outputs": [
    {
     "data": {
      "text/plain": [
       "19.0"
      ]
     },
     "execution_count": 32,
     "metadata": {},
     "output_type": "execute_result"
    }
   ],
   "source": [
    "npd=ed.Department.isna().sum()/len(ed)*100\n",
    "np"
   ]
  },
  {
   "cell_type": "code",
   "execution_count": 34,
   "id": "1717982d",
   "metadata": {},
   "outputs": [
    {
     "data": {
      "text/plain": [
       "18.0"
      ]
     },
     "execution_count": 34,
     "metadata": {},
     "output_type": "execute_result"
    }
   ],
   "source": [
    "npa=ed.Age.isna().sum()/len(ed)*100\n",
    "npa"
   ]
  },
  {
   "cell_type": "code",
   "execution_count": 35,
   "id": "6d17e087",
   "metadata": {},
   "outputs": [
    {
     "data": {
      "text/plain": [
       "10.0"
      ]
     },
     "execution_count": 35,
     "metadata": {},
     "output_type": "execute_result"
    }
   ],
   "source": [
    "npe=ed.Experience.isna().sum()/len(ed)*100\n",
    "npe"
   ]
  },
  {
   "cell_type": "markdown",
   "id": "97eb8904",
   "metadata": {},
   "source": [
    "# Filling the null values column wise"
   ]
  },
  {
   "cell_type": "code",
   "execution_count": 36,
   "id": "4606b588",
   "metadata": {},
   "outputs": [
    {
     "data": {
      "text/plain": [
       "Sales and Marketing    30\n",
       "Accounting             27\n",
       "Customer Relations     24\n",
       "Name: Department, dtype: int64"
      ]
     },
     "execution_count": 36,
     "metadata": {},
     "output_type": "execute_result"
    }
   ],
   "source": [
    "#Filling the nan value in Categorical column\n",
    "ed.Department.value_counts()"
   ]
  },
  {
   "cell_type": "code",
   "execution_count": 37,
   "id": "3a1b625e",
   "metadata": {},
   "outputs": [
    {
     "data": {
      "text/plain": [
       "Employee Id     0\n",
       "First Name      0\n",
       "Last Name       0\n",
       "Department     19\n",
       "Age            18\n",
       "Experience     10\n",
       "Salary          0\n",
       "dtype: int64"
      ]
     },
     "execution_count": 37,
     "metadata": {},
     "output_type": "execute_result"
    }
   ],
   "source": [
    "ed.isna().sum()"
   ]
  },
  {
   "cell_type": "code",
   "execution_count": 40,
   "id": "3415378c",
   "metadata": {},
   "outputs": [
    {
     "data": {
      "text/html": [
       "<div>\n",
       "<style scoped>\n",
       "    .dataframe tbody tr th:only-of-type {\n",
       "        vertical-align: middle;\n",
       "    }\n",
       "\n",
       "    .dataframe tbody tr th {\n",
       "        vertical-align: top;\n",
       "    }\n",
       "\n",
       "    .dataframe thead th {\n",
       "        text-align: right;\n",
       "    }\n",
       "</style>\n",
       "<table border=\"1\" class=\"dataframe\">\n",
       "  <thead>\n",
       "    <tr style=\"text-align: right;\">\n",
       "      <th></th>\n",
       "      <th>Employee Id</th>\n",
       "      <th>First Name</th>\n",
       "      <th>Last Name</th>\n",
       "      <th>Department</th>\n",
       "      <th>Age</th>\n",
       "      <th>Experience</th>\n",
       "      <th>Salary</th>\n",
       "    </tr>\n",
       "  </thead>\n",
       "  <tbody>\n",
       "    <tr>\n",
       "      <th>0</th>\n",
       "      <td>1</td>\n",
       "      <td>Joy</td>\n",
       "      <td>Bass</td>\n",
       "      <td>Sales and Marketing</td>\n",
       "      <td>28.0</td>\n",
       "      <td>3.0</td>\n",
       "      <td>32889</td>\n",
       "    </tr>\n",
       "    <tr>\n",
       "      <th>1</th>\n",
       "      <td>2</td>\n",
       "      <td>Sheila</td>\n",
       "      <td>Garza</td>\n",
       "      <td>Sales and Marketing</td>\n",
       "      <td>22.0</td>\n",
       "      <td>1.0</td>\n",
       "      <td>15944</td>\n",
       "    </tr>\n",
       "    <tr>\n",
       "      <th>2</th>\n",
       "      <td>3</td>\n",
       "      <td>John</td>\n",
       "      <td>Bryant</td>\n",
       "      <td>Customer Relations</td>\n",
       "      <td>22.0</td>\n",
       "      <td>1.0</td>\n",
       "      <td>40343</td>\n",
       "    </tr>\n",
       "    <tr>\n",
       "      <th>3</th>\n",
       "      <td>4</td>\n",
       "      <td>Christian</td>\n",
       "      <td>Farley</td>\n",
       "      <td>Customer Relations</td>\n",
       "      <td>22.0</td>\n",
       "      <td>1.0</td>\n",
       "      <td>19018</td>\n",
       "    </tr>\n",
       "    <tr>\n",
       "      <th>4</th>\n",
       "      <td>5</td>\n",
       "      <td>Colorado</td>\n",
       "      <td>Bowen</td>\n",
       "      <td>Accounting</td>\n",
       "      <td>27.0</td>\n",
       "      <td>0.0</td>\n",
       "      <td>24795</td>\n",
       "    </tr>\n",
       "    <tr>\n",
       "      <th>...</th>\n",
       "      <td>...</td>\n",
       "      <td>...</td>\n",
       "      <td>...</td>\n",
       "      <td>...</td>\n",
       "      <td>...</td>\n",
       "      <td>...</td>\n",
       "      <td>...</td>\n",
       "    </tr>\n",
       "    <tr>\n",
       "      <th>95</th>\n",
       "      <td>96</td>\n",
       "      <td>Tyrone</td>\n",
       "      <td>Barber</td>\n",
       "      <td>Sales and Marketing</td>\n",
       "      <td>47.0</td>\n",
       "      <td>22.0</td>\n",
       "      <td>79077</td>\n",
       "    </tr>\n",
       "    <tr>\n",
       "      <th>96</th>\n",
       "      <td>97</td>\n",
       "      <td>Urielle</td>\n",
       "      <td>Herrera</td>\n",
       "      <td>Sales and Marketing</td>\n",
       "      <td>46.0</td>\n",
       "      <td>20.0</td>\n",
       "      <td>81187</td>\n",
       "    </tr>\n",
       "    <tr>\n",
       "      <th>97</th>\n",
       "      <td>98</td>\n",
       "      <td>Brendan</td>\n",
       "      <td>Solis</td>\n",
       "      <td>Customer Relations</td>\n",
       "      <td>44.0</td>\n",
       "      <td>18.0</td>\n",
       "      <td>83847</td>\n",
       "    </tr>\n",
       "    <tr>\n",
       "      <th>98</th>\n",
       "      <td>99</td>\n",
       "      <td>Holmes</td>\n",
       "      <td>Nelson</td>\n",
       "      <td>Customer Relations</td>\n",
       "      <td>47.0</td>\n",
       "      <td>22.0</td>\n",
       "      <td>89158</td>\n",
       "    </tr>\n",
       "    <tr>\n",
       "      <th>99</th>\n",
       "      <td>100</td>\n",
       "      <td>Avye</td>\n",
       "      <td>Davidson</td>\n",
       "      <td>Accounting</td>\n",
       "      <td>44.0</td>\n",
       "      <td>21.0</td>\n",
       "      <td>91645</td>\n",
       "    </tr>\n",
       "  </tbody>\n",
       "</table>\n",
       "<p>100 rows × 7 columns</p>\n",
       "</div>"
      ],
      "text/plain": [
       "    Employee Id First Name Last Name           Department   Age  Experience  \\\n",
       "0             1        Joy      Bass  Sales and Marketing  28.0         3.0   \n",
       "1             2     Sheila     Garza  Sales and Marketing  22.0         1.0   \n",
       "2             3       John    Bryant   Customer Relations  22.0         1.0   \n",
       "3             4  Christian    Farley   Customer Relations  22.0         1.0   \n",
       "4             5   Colorado     Bowen           Accounting  27.0         0.0   \n",
       "..          ...        ...       ...                  ...   ...         ...   \n",
       "95           96     Tyrone    Barber  Sales and Marketing  47.0        22.0   \n",
       "96           97    Urielle   Herrera  Sales and Marketing  46.0        20.0   \n",
       "97           98    Brendan     Solis   Customer Relations  44.0        18.0   \n",
       "98           99     Holmes    Nelson   Customer Relations  47.0        22.0   \n",
       "99          100       Avye  Davidson           Accounting  44.0        21.0   \n",
       "\n",
       "    Salary  \n",
       "0    32889  \n",
       "1    15944  \n",
       "2    40343  \n",
       "3    19018  \n",
       "4    24795  \n",
       "..     ...  \n",
       "95   79077  \n",
       "96   81187  \n",
       "97   83847  \n",
       "98   89158  \n",
       "99   91645  \n",
       "\n",
       "[100 rows x 7 columns]"
      ]
     },
     "execution_count": 40,
     "metadata": {},
     "output_type": "execute_result"
    }
   ],
   "source": [
    "ed['Department'].fillna(ed.Department.mode()[0],inplace=True)\n",
    "ed"
   ]
  },
  {
   "cell_type": "code",
   "execution_count": 41,
   "id": "ce050371",
   "metadata": {},
   "outputs": [
    {
     "data": {
      "text/plain": [
       "Employee Id     0\n",
       "First Name      0\n",
       "Last Name       0\n",
       "Department      0\n",
       "Age            18\n",
       "Experience     10\n",
       "Salary          0\n",
       "dtype: int64"
      ]
     },
     "execution_count": 41,
     "metadata": {},
     "output_type": "execute_result"
    }
   ],
   "source": [
    "ed.isna().sum()"
   ]
  },
  {
   "cell_type": "markdown",
   "id": "54690440",
   "metadata": {},
   "source": [
    "# Filling the nan values in the numerical columns"
   ]
  },
  {
   "cell_type": "raw",
   "id": "84a1fa6a",
   "metadata": {},
   "source": [
    "# Checking for the outliers in numerical columns\n",
    "#If outliers are present,numerical columns are filled with median otherwise they are filled with mean."
   ]
  },
  {
   "cell_type": "code",
   "execution_count": 43,
   "id": "8980e503",
   "metadata": {},
   "outputs": [
    {
     "data": {
      "image/png": "[encoded data removed]",
      "text/plain": [
       "<Figure size 640x480 with 1 Axes>"
      ]
     },
     "metadata": {},
     "output_type": "display_data"
    }
   ],
   "source": [
    "sns.set_theme(context='notebook',style='whitegrid',palette='bright',font='cursive',font_scale=1.5)\n",
    "ed.plot(kind='box')\n",
    "plt.show()"
   ]
  },
  {
   "cell_type": "code",
   "execution_count": 44,
   "id": "ee6ea43e",
   "metadata": {},
   "outputs": [
    {
     "data": {
      "text/plain": [
       "Employee Id     0\n",
       "First Name      0\n",
       "Last Name       0\n",
       "Department      0\n",
       "Age            18\n",
       "Experience     10\n",
       "Salary          0\n",
       "dtype: int64"
      ]
     },
     "execution_count": 44,
     "metadata": {},
     "output_type": "execute_result"
    }
   ],
   "source": [
    "ed.isna().sum()"
   ]
  },
  {
   "cell_type": "code",
   "execution_count": 48,
   "id": "4ae74ac0",
   "metadata": {},
   "outputs": [],
   "source": [
    "ed.Age.fillna(ed.Age.mean(),inplace=True)"
   ]
  },
  {
   "cell_type": "code",
   "execution_count": 49,
   "id": "9e563547",
   "metadata": {},
   "outputs": [
    {
     "data": {
      "text/plain": [
       "Employee Id     0\n",
       "First Name      0\n",
       "Last Name       0\n",
       "Department      0\n",
       "Age             0\n",
       "Experience     10\n",
       "Salary          0\n",
       "dtype: int64"
      ]
     },
     "execution_count": 49,
     "metadata": {},
     "output_type": "execute_result"
    }
   ],
   "source": [
    "ed.isna().sum()"
   ]
  },
  {
   "cell_type": "code",
   "execution_count": 50,
   "id": "bbf95445",
   "metadata": {},
   "outputs": [],
   "source": [
    "ed.Experience.fillna(ed.Experience.mean(),inplace=True)"
   ]
  },
  {
   "cell_type": "code",
   "execution_count": 51,
   "id": "a65c19fc",
   "metadata": {},
   "outputs": [
    {
     "data": {
      "text/plain": [
       "Employee Id    0\n",
       "First Name     0\n",
       "Last Name      0\n",
       "Department     0\n",
       "Age            0\n",
       "Experience     0\n",
       "Salary         0\n",
       "dtype: int64"
      ]
     },
     "execution_count": 51,
     "metadata": {},
     "output_type": "execute_result"
    }
   ],
   "source": [
    "ed.isna().sum()"
   ]
  },
  {
   "cell_type": "code",
   "execution_count": null,
   "id": "016a7448",
   "metadata": {},
   "outputs": [],
   "source": []
  }
 ],
 "metadata": {
  "kernelspec": {
   "display_name": "Python 3 (ipykernel)",
   "language": "python",
   "name": "python3"
  },
  "language_info": {
   "codemirror_mode": {
    "name": "ipython",
    "version": 3
   },
   "file_extension": ".py",
   "mimetype": "text/x-python",
   "name": "python",
   "nbconvert_exporter": "python",
   "pygments_lexer": "ipython3",
   "version": "3.10.9"
  }
 },
 "nbformat": 4,
 "nbformat_minor": 5
}
