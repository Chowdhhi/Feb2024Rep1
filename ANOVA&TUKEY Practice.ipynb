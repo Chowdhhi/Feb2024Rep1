{
 "cells": [
  {
   "cell_type": "code",
   "execution_count": 3,
   "id": "a460612b",
   "metadata": {},
   "outputs": [],
   "source": [
    "import numpy as np\n",
    "import pandas as pd\n",
    "import seaborn as sns\n",
    "import matplotlib.pyplot as plt\n",
    "import warnings\n",
    "warnings.filterwarnings('ignore')"
   ]
  },
  {
   "cell_type": "code",
   "execution_count": 7,
   "id": "37e1606e",
   "metadata": {},
   "outputs": [
    {
     "data": {
      "text/plain": [
       "array(['ctrl', 'trt1', 'trt2'], dtype=object)"
      ]
     },
     "execution_count": 7,
     "metadata": {},
     "output_type": "execute_result"
    }
   ],
   "source": [
    "data=pd.read_csv(r\"C:\\Users\\hindo\\PlantGrowth.csv\")\n",
    "data.group.unique()"
   ]
  },
  {
   "cell_type": "markdown",
   "id": "7bc3aa41",
   "metadata": {},
   "source": [
    "# Anova Test"
   ]
  },
  {
   "cell_type": "code",
   "execution_count": 13,
   "id": "9378a7c5",
   "metadata": {},
   "outputs": [
    {
     "name": "stdout",
     "output_type": "stream",
     "text": [
      "            sum_sq    df         F   PR(>F)\n",
      "group      3.76634   2.0  4.846088  0.01591\n",
      "Residual  10.49209  27.0       NaN      NaN\n"
     ]
    }
   ],
   "source": [
    "import statsmodels.api as sm\n",
    "from statsmodels.formula.api import ols\n",
    "mod=ols('weight~group',\n",
    "       data=data).fit()\n",
    "acv_table=sm.stats.anova_lm(mod,typ=2)\n",
    "print(acv_table)"
   ]
  },
  {
   "cell_type": "markdown",
   "id": "706b1323",
   "metadata": {},
   "source": [
    "# Tukey Test"
   ]
  },
  {
   "cell_type": "code",
   "execution_count": 28,
   "id": "b5bd2c71",
   "metadata": {},
   "outputs": [
    {
     "name": "stdout",
     "output_type": "stream",
     "text": [
      "Multiple Comparison of Means - Tukey HSD, FWER=0.05\n",
      "===================================================\n",
      "group1 group2 meandiff p-adj   lower  upper  reject\n",
      "---------------------------------------------------\n",
      "  ctrl   trt1   -0.371 0.3909 -1.0622 0.3202  False\n",
      "  ctrl   trt2    0.494  0.198 -0.1972 1.1852  False\n",
      "  trt1   trt2    0.865  0.012  0.1738 1.5562   True\n",
      "---------------------------------------------------\n"
     ]
    }
   ],
   "source": [
    "from statsmodels.stats.multicomp import pairwise_tukeyhsd\n",
    "from statsmodels.stats.multicomp import MultiComparison\n",
    "mc=MultiComparison(data['weight'],data['group'])\n",
    "result=mc.tukeyhsd()\n",
    "print(result)"
   ]
  },
  {
   "cell_type": "code",
   "execution_count": 27,
   "id": "7fb84342",
   "metadata": {},
   "outputs": [
    {
     "name": "stdout",
     "output_type": "stream",
     "text": [
      "Multiple Comparison of Means - Tukey HSD, FWER=0.05\n",
      "===================================================\n",
      "group1 group2 meandiff p-adj   lower  upper  reject\n",
      "---------------------------------------------------\n",
      "  ctrl   trt1   -0.371 0.3909 -1.0622 0.3202  False\n",
      "  ctrl   trt2    0.494  0.198 -0.1972 1.1852  False\n",
      "  trt1   trt2    0.865  0.012  0.1738 1.5562   True\n",
      "---------------------------------------------------\n",
      "['ctrl' 'trt1' 'trt2']\n"
     ]
    }
   ],
   "source": [
    "from statsmodels.stats.multicomp import pairwise_tukeyhsd\n",
    "from statsmodels.stats.multicomp import MultiComparison\n",
    "mc=MultiComparison(data['weight'],data['group'])\n",
    "result=mc.tukeyhsd()\n",
    "print(result)\n",
    "print(mc.groupsunique)"
   ]
  },
  {
   "cell_type": "code",
   "execution_count": 30,
   "id": "19f42296",
   "metadata": {},
   "outputs": [
    {
     "name": "stdout",
     "output_type": "stream",
     "text": [
      "The probability of rolling an even number or greater than 7 is: 66.44 %\n"
     ]
    }
   ],
   "source": [
    "import numpy as np\n",
    "import random\n",
    "def roll_the_dice(n_simulations=100000):\n",
    "    count=0\n",
    "    for i in range(n_simulations):\n",
    "        die1=random.randint(1,6)\n",
    "        die2=random.randint(1,6)\n",
    "        score=die1+die2\n",
    "        if((score%2==0)or (score>7)):\n",
    "            count+=1\n",
    "    return count/n_simulations\n",
    "string='The probability of rolling an even number or greater than 7 is:'\n",
    "print(string,np.round(roll_the_dice()*100,2),'%')"
   ]
  },
  {
   "cell_type": "code",
   "execution_count": 37,
   "id": "e9ca1853",
   "metadata": {},
   "outputs": [
    {
     "name": "stdout",
     "output_type": "stream",
     "text": [
      "['A', 'A', 'A', 'A', 'A', 'A', 'A', 'A', 'A', 'A', 'A', 'A', 'B', 'B', 'B', 'B', 'B', 'B', 'B', 'B', 'B', 'B', 'B', 'B', 'B', 'B', 'B', 'B', 'B', 'B']\n",
      "0.236\n"
     ]
    }
   ],
   "source": [
    "import random\n",
    "trials=1000\n",
    "totalA=12\n",
    "totalB=18\n",
    "count=0\n",
    "choicelist=list('A'*totalA+'B'*totalB)\n",
    "print(choicelist)\n",
    "def transistor():\n",
    "    return random.choice(choicelist)\n",
    "for i in range(trials):\n",
    "    try1=transistor()\n",
    "    try2=transistor()\n",
    "    if try1=='A' and try2 =='B':\n",
    "        count+=1\n",
    "print(float(count)/trials)"
   ]
  },
  {
   "cell_type": "code",
   "execution_count": null,
   "id": "f7a7567f",
   "metadata": {},
   "outputs": [],
   "source": []
  },
  {
   "cell_type": "code",
   "execution_count": null,
   "id": "163ec3f3",
   "metadata": {},
   "outputs": [],
   "source": []
  }
 ],
 "metadata": {
  "kernelspec": {
   "display_name": "Python 3 (ipykernel)",
   "language": "python",
   "name": "python3"
  },
  "language_info": {
   "codemirror_mode": {
    "name": "ipython",
    "version": 3
   },
   "file_extension": ".py",
   "mimetype": "text/x-python",
   "name": "python",
   "nbconvert_exporter": "python",
   "pygments_lexer": "ipython3",
   "version": "3.10.9"
  }
 },
 "nbformat": 4,
 "nbformat_minor": 5
}
