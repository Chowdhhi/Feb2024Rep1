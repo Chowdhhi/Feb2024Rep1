{
 "cells": [
  {
   "cell_type": "code",
   "execution_count": 24,
   "id": "cbebe166",
   "metadata": {},
   "outputs": [],
   "source": [
    "from math import sqrt\n",
    "def estimates(flag,std_dev,n,alpha,talpha,p_mean=30,s_mean=28):\n",
    "    alpha_dict_z = {0.025: 1.96, 0.05: 1.64}\n",
    "    alpha_dict_t = {0.05: 1.65, 0.025: 1.66}\n",
    "    if alpha not in alpha_dict_z:\n",
    "        raise ValueError('Z-Alpha not found in the dictionary')\n",
    "    if talpha not in alpha_dict_z:\n",
    "        raise ValueError('T-Alpha not found in dictionary')\n",
    "    if (flag==4 or flag==1):\n",
    "        point_estimate= s_mean\n",
    "        print (f'Point estimate is {round(point_estimate,2)}')\n",
    "    if (flag==4 or flag==2):\n",
    "        if n>=30:\n",
    "            distribution_type='Z'\n",
    "            z=alpha_dict_z[alpha]\n",
    "            moe=z*(std_dev/n**0.5)\n",
    "        else:\n",
    "            distribution_type = \"T\"\n",
    "            t=alpha_dict_t[talpha]\n",
    "            moe=t*(std_dev/sqrt(n))\n",
    "    lower_bound = point_estimate - moe\n",
    "    upper_bound = point_estimate + moe\n",
    "    print (f'Interval estimate is estimate is {round(lower_bound,2)}'f' to {round(upper_bound,2)}')\n",
    "    if (flag==4 or flag==3):   \n",
    "          if distribution_type == \"Z\":\n",
    "            z_stat = (s_mean - p_mean) / (std_dev / sqrt(n))    \n",
    "            if z_stat<z:\n",
    "                    print( \"Null Hypothesis Accepted\")\n",
    "            else:\n",
    "                print (\"Null Hypothesis Rejected\")\n",
    "    else:\n",
    "           if distribution_type == \"T\":\n",
    "                t_stat = (s_mean - p_mean) / (std_dev / sqrt(n))\n",
    "                if t_stat<t:\n",
    "                    print(\"Null Hypothesis Accepted\")\n",
    "                else:\n",
    "                    print(\"Null Hypothesis Rejected\")"
   ]
  },
  {
   "cell_type": "code",
   "execution_count": 26,
   "id": "951f5e07",
   "metadata": {},
   "outputs": [
    {
     "name": "stdout",
     "output_type": "stream",
     "text": [
      "Point estimate is 28\n",
      "Interval estimate is estimate is 19.68 to 36.32\n",
      "Null Hypothesis Accepted\n"
     ]
    }
   ],
   "source": [
    "estimates(4,35,68,0.025,0.025)"
   ]
  },
  {
   "cell_type": "code",
   "execution_count": 2,
   "id": "86149b30",
   "metadata": {},
   "outputs": [],
   "source": [
    "import scipy.stats as stats\n",
    "import math\n",
    "\n",
    "def estimate_and_test(data, population_mean=None, population_proportion=None, confidence_level=None, hypothesis_mean=None):\n",
    "    n = len(data)\n",
    "    sample_mean = sum(data) / n\n",
    "    sample_standard_deviation = stats.tstd(data)\n",
    "    sample_proportion = sum(data) / n if population_proportion is not None else None\n",
    "    \n",
    "    result = {}\n",
    "\n",
    "    # Point Estimate for Population Mean\n",
    "    result['Point Estimate for Mean'] = sample_mean\n",
    "\n",
    "    # Point Estimate for Population Proportion\n",
    "    if population_proportion is not None:\n",
    "        result['Point Estimate for Proportion'] = sample_proportion\n",
    "\n",
    "    # Confidence Interval Calculation\n",
    "    if confidence_level is not None:\n",
    "        if population_mean is not None:\n",
    "            margin_of_error = stats.norm.ppf((1 + confidence_level) / 2) * (sample_standard_deviation / math.sqrt(n))\n",
    "            lower_bound = sample_mean - margin_of_error\n",
    "            upper_bound = sample_mean + margin_of_error\n",
    "            result['Confidence Interval for Mean'] = (lower_bound, upper_bound)\n",
    "\n",
    "        elif population_proportion is not None:\n",
    "            margin_of_error = stats.norm.ppf((1 + confidence_level) / 2) * math.sqrt((sample_proportion * (1 - sample_proportion)) / n)\n",
    "            lower_bound = sample_proportion - margin_of_error\n",
    "            upper_bound = sample_proportion + margin_of_error\n",
    "            result['Confidence Interval for Proportion'] = (lower_bound, upper_bound)\n",
    "\n",
    "    # Hypothesis Testing\n",
    "    if hypothesis_mean is not None:\n",
    "        if population_mean is not None:\n",
    "            z_statistic = (sample_mean - hypothesis_mean) / (sample_standard_deviation / math.sqrt(n))\n",
    "            p_value = 2 * (1 - stats.norm.cdf(abs(z_statistic)))  # Two-tailed test\n",
    "            result['Hypothesis Testing for Mean'] = {'Z-Statistic': z_statistic, 'P-Value': p_value,\n",
    "                                                     'Conclusion': 'Reject Null Hypothesis' if p_value < 0.05 else 'Fail to Reject Null Hypothesis'}\n",
    "\n",
    "    return result"
   ]
  },
  {
   "cell_type": "code",
   "execution_count": 3,
   "id": "d6c34c2e",
   "metadata": {},
   "outputs": [
    {
     "name": "stdout",
     "output_type": "stream",
     "text": [
      "{'Point Estimate for Mean': 24.8, 'Confidence Interval for Mean': (22.341566512751378, 27.258433487248624), 'Hypothesis Testing for Mean': {'Z-Statistic': 0.6377928041432813, 'P-Value': 0.5236085643722503, 'Conclusion': 'Fail to Reject Null Hypothesis'}}\n"
     ]
    }
   ],
   "source": [
    "data = [25, 28, 22, 30, 18, 27, 23, 29, 20, 26]\n",
    "\n",
    "# Confidence Interval and Hypothesis Testing for Population Mean\n",
    "result = estimate_and_test(data, population_mean=24, confidence_level=0.95, hypothesis_mean=24)\n",
    "print(result)"
   ]
  },
  {
   "cell_type": "code",
   "execution_count": null,
   "id": "fe1fba07",
   "metadata": {},
   "outputs": [],
   "source": []
  }
 ],
 "metadata": {
  "kernelspec": {
   "display_name": "Python 3 (ipykernel)",
   "language": "python",
   "name": "python3"
  },
  "language_info": {
   "codemirror_mode": {
    "name": "ipython",
    "version": 3
   },
   "file_extension": ".py",
   "mimetype": "text/x-python",
   "name": "python",
   "nbconvert_exporter": "python",
   "pygments_lexer": "ipython3",
   "version": "3.10.9"
  }
 },
 "nbformat": 4,
 "nbformat_minor": 5
}
